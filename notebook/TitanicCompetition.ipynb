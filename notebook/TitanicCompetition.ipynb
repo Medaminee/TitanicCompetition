{
 "cells": [
  {
   "cell_type": "code",
   "execution_count": null,
   "metadata": {},
   "outputs": [],
   "source": [
    "import numpy as np # linear algebra\n",
    "import pandas as pd # data processing, CSV file I/O (e.g. pd.read_csv)\n",
    "from sklearn.ensemble import RandomForestRegressor"
   ]
  },
  {
   "cell_type": "code",
   "execution_count": null,
   "metadata": {},
   "outputs": [],
   "source": [
    "# Path of the file to read. We changed the directory structure to simplify submitting to a competition\n",
    "titanic_train_data_path = './datasets/train.csv'\n",
    "titanic_test_data_path = './datasets/test.csv'\n",
    "titanic_test_data = pd.read_csv(titanic_test_data_path)\n",
    "titanic_train_data = pd.read_csv(titanic_train_data_path)\n",
    "print(titanic_train_data.head())\n",
    "titanic_train_data.describe()"
   ]
  },
  {
   "cell_type": "code",
   "execution_count": null,
   "metadata": {},
   "outputs": [],
   "source": [
    "features = ['PassengerId', 'Pclass','Age', 'SibSp', 'Parch', 'Fare']\n",
    "titanic_train_data = titanic_train_data.dropna(axis=0)\n",
    "X = titanic_train_data[features]\n",
    "y = titanic_train_data.Survived\n",
    "X.head()"
   ]
  },
  {
   "cell_type": "code",
   "execution_count": null,
   "metadata": {},
   "outputs": [],
   "source": [
    "random_forest_model = RandomForestRegressor(random_state = 1)\n",
    "random_forest_model.fit(X, y)\n",
    "titanic_test_data = titanic_test_data.dropna(axis=0)\n",
    "output_np = random_forest_model.predict(titanic_test_data[features])"
   ]
  },
  {
   "cell_type": "code",
   "execution_count": null,
   "metadata": {},
   "outputs": [],
   "source": [
    "output = pd.DataFrame({'PassengerId': titanic_test_data.PassengerId,\n",
    "                       'Survived': output_np})\n",
    "output.to_csv('./datasets/output.csv', index=False)"
   ]
  },
  {
   "cell_type": "code",
   "execution_count": null,
   "metadata": {},
   "outputs": [],
   "source": []
  }
 ],
 "metadata": {
  "kernelspec": {
   "display_name": "Python 3",
   "language": "python",
   "name": "python3"
  },
  "language_info": {
   "codemirror_mode": {
    "name": "ipython",
    "version": 3
   },
   "file_extension": ".py",
   "mimetype": "text/x-python",
   "name": "python",
   "nbconvert_exporter": "python",
   "pygments_lexer": "ipython3",
   "version": "3.7.6"
  }
 },
 "nbformat": 4,
 "nbformat_minor": 2
}
